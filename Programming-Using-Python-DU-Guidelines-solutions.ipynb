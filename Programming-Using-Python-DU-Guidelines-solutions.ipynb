{
 "cells": [
  {
   "cell_type": "code",
   "execution_count": 12,
   "id": "7202f5a0",
   "metadata": {},
   "outputs": [
    {
     "name": "stdout",
     "output_type": "stream",
     "text": [
      "Enter a positive integer: 16\n",
      "Factors of num are:\n",
      "1\n",
      "2\n",
      "4\n",
      "8\n",
      "16\n"
     ]
    }
   ],
   "source": [
    "'''\n",
    "Q1)\n",
    "\n",
    "WAP to calculate total marks, percentage and grade of a student. \n",
    "Marks obtained in each of three subjects are to be input by the user. \n",
    "Assign grades according to the following criteria:\n",
    "Grade A: if Percentage >= 80\n",
    "Grade B: if Percentage >= 60 and Percentage < 80\n",
    "Grade C: if Percentage >= 40 and Percentage < 60\n",
    "Grade D: if Percentage < 40\n",
    "'''\n",
    "sub1 = float(input(\"Marks in Subject 1 out of 100: \"))\n",
    "sub2 = float(input(\"Marks in Subject 2 out of 100: \"))\n",
    "sub3 = float(input(\"Marks in Subject 3 out of 100: \"))\n",
    "\n",
    "total = sub1 + sub2 + sub3\n",
    "print(\"Total marks obtained : \", total)\n",
    "\n",
    "per = (total/300)*100\n",
    "print(\"Percentage : \", per)\n",
    "\n",
    "if per>= 80:\n",
    "    print(\"Grade A\")\n",
    "elif per>= 60 and per< 80:\n",
    "    print (\"Grade B\")\n",
    "elif per>= 40 and per< 60:\n",
    "    print(\"Grade C\")\n",
    "elif per< 40:\n",
    "    print(\"Grade D\")"
   ]
  },
  {
   "cell_type": "code",
   "execution_count": null,
   "id": "9bcd0f76",
   "metadata": {},
   "outputs": [],
   "source": [
    "def factors(num):\n",
    "    num = int(input(\"Enter a positive integer: \"))\n",
    "    print(\"Factors of num are:\")\n",
    "    for i in range(1, num + 1):\n",
    "        if num % i == 0:\n",
    "            print(i)\n",
    "\n",
    "factors(num)"
   ]
  },
  {
   "cell_type": "code",
   "execution_count": 5,
   "id": "845c287d",
   "metadata": {},
   "outputs": [
    {
     "name": "stdout",
     "output_type": "stream",
     "text": [
      "Enter a number: 5\n",
      "Factors of the number are:\n",
      "1\n",
      "5\n"
     ]
    }
   ],
   "source": [
    "#WAP to print factors of a given number.\n",
    "def factors():\n",
    "    num = int(input(\"Enter a number: \"))\n",
    "    print(\"Factors of the number are:\")\n",
    "    for i in range(1, num + 1):\n",
    "        if num % i == 0:\n",
    "            print(i)\n",
    "            \n",
    "factors()"
   ]
  },
  {
   "cell_type": "code",
   "execution_count": 7,
   "id": "45914902",
   "metadata": {},
   "outputs": [
    {
     "name": "stdout",
     "output_type": "stream",
     "text": [
      "Enter a number: 7\n",
      "Sum of n natural numbers: 28\n"
     ]
    }
   ],
   "source": [
    "#WAP to add N natural numbers and display their sum.\n",
    "n = int(input(\"Enter a number: \"))\n",
    "sum = 0\n",
    "for i in range(1, n + 1):\n",
    "    sum = sum + i\n",
    "print(\"Sum of n natural numbers:\", sum)"
   ]
  },
  {
   "cell_type": "code",
   "execution_count": 8,
   "id": "bc5bffc2",
   "metadata": {},
   "outputs": [
    {
     "name": "stdout",
     "output_type": "stream",
     "text": [
      "Height(in feet) Height(in inches)\n",
      "5.0 \t \t 60.0\n",
      "5.1 \t \t 61.2\n",
      "5.2 \t \t 62.4\n",
      "5.3 \t \t 63.6\n",
      "5.4 \t \t 64.8\n",
      "5.5 \t \t 66.0\n",
      "5.6 \t \t 67.2\n",
      "5.7 \t \t 68.4\n",
      "5.8 \t \t 69.6\n",
      "5.9 \t \t 70.8\n",
      "6.0 \t \t 72.0\n"
     ]
    }
   ],
   "source": [
    "'''WAP to print the following conversion table (use looping constructs):\n",
    "\n",
    "Height(in Feet)   Height (in inches)\n",
    "    5.0 ft            60 inches\n",
    "    5.1ft             61.2 inches\n",
    "                .\n",
    "                .\n",
    "                .\n",
    "                .\n",
    "                .\n",
    "                .\n",
    "    5.8 ft            69.6 inches\n",
    "    5.9 ft            70.8 inches\n",
    "    6.0 ft            72 inches\n",
    "\n",
    "'''\n",
    "\n",
    "print(\"Height(in feet) Height(in inches)\")\n",
    "i = 5.0\n",
    "while (i<= 6.0):\n",
    "    print(round(i,2),\"\\t\",\"\\t\",round(i*12,2))\n",
    "    i=i+0.1"
   ]
  },
  {
   "cell_type": "code",
   "execution_count": 10,
   "id": "815a6dee",
   "metadata": {},
   "outputs": [
    {
     "name": "stdout",
     "output_type": "stream",
     "text": [
      "enter a number of rows: 4\n",
      "* \n",
      "* * \n",
      "* * * \n",
      "* * * * \n"
     ]
    }
   ],
   "source": [
    "'''WAP that takes a positive integer n and the produce n lines of output as shown:\n",
    "*\n",
    "* *\n",
    "* * *\n",
    "* * * *\n",
    "(sample output for n = 4)\n",
    "'''\n",
    "\n",
    "num=int(input(\"enter a number of rows: \"))\n",
    "for i in range(1,num+1):\n",
    "    for j in range(1,1+i):\n",
    "        print(\"*\",end=\" \")\n",
    "    print()"
   ]
  },
  {
   "cell_type": "code",
   "execution_count": null,
   "id": "c98c1a87",
   "metadata": {},
   "outputs": [],
   "source": [
    "'''\n",
    "Write a menu driven program using user defined functions to print the area of rectangle, square, circle and triangle \n",
    "by accepting suitable input from user.\n",
    "'''\n",
    "#Without functions\n",
    "\n",
    "print(\"\"\"Choose the shape of which you want to find the area:\n",
    " \n",
    "1. Rectangle\n",
    "2. Square\n",
    "3. Circle \n",
    "4. Triangle\"\"\")\n",
    "\n",
    "choice = int(input(\"User's shape choice : \")) \n",
    "\n",
    "if choice == 1:\n",
    "    length = float(input(\"Length of the rectangle : \"))\n",
    "    breadth = float(input(\"Breadth of the rectangle : \"))\n",
    "    Area = length*breadth\n",
    "    print(\"The area of the rectangle is : \", Area)\n",
    "elif choice == 2:\n",
    "    side = float(input(\"Side of the square : \"))\n",
    "    area = side**2\n",
    "    print(\"The area of the square is : \", area)\n",
    "    \n",
    "elif choice == 3:\n",
    "    import math\n",
    "    radius = float(input(\"Radius of the circle : \"))\n",
    "    Area1 = math.pi*radius**2\n",
    "    print(\"The area of the circle is : \", Area1)\n",
    "    \n",
    "elif choice == 4:\n",
    "    side1 = float(input(\"Length of side one of the triangle : \"))\n",
    "    side2 = float(input(\"Length of side two of the triangle : \"))\n",
    "    side3 = float(input(\"Length of side three of the triangle : \"))\n",
    "    area2 = side1*side2*side3\n",
    "    print(\"The area of the triangle is : \", area2)"
   ]
  },
  {
   "cell_type": "code",
   "execution_count": 11,
   "id": "9311256e",
   "metadata": {},
   "outputs": [
    {
     "name": "stdout",
     "output_type": "stream",
     "text": [
      "Enter a number: 6\n",
      "Factorial: 720\n"
     ]
    }
   ],
   "source": [
    "#Write a function that calculates factorial of a number n.\n",
    "\n",
    "def factorial(n):\n",
    "    result = 1\n",
    "    for i in range(1, n + 1):\n",
    "        result *= i\n",
    "    return result\n",
    "\n",
    "num = int(input(\"Enter a number: \"))\n",
    "result = factorial(num)\n",
    "print(\"Factorial:\", result)"
   ]
  },
  {
   "cell_type": "code",
   "execution_count": 68,
   "id": "4fd6c642",
   "metadata": {},
   "outputs": [
    {
     "name": "stdout",
     "output_type": "stream",
     "text": [
      "enter a number = 6\n",
      "720\n"
     ]
    }
   ],
   "source": [
    "'''\n",
    "WAP to print the series and its sum: (use functions)\n",
    "1/1! + 1/2! + 1/3! …….1/n!\n",
    "'''\n"
   ]
  },
  {
   "cell_type": "code",
   "execution_count": null,
   "id": "eacb47f2",
   "metadata": {},
   "outputs": [],
   "source": [
    "'''\n",
    "WAP to perform the following operations on an input string\n",
    "a. Print length of the string\n",
    "b. Find frequency of a character in the string\n",
    "c. Print whether characters are in uppercase or lowercase\n",
    "'''"
   ]
  },
  {
   "cell_type": "code",
   "execution_count": 15,
   "id": "dc61dd7a",
   "metadata": {},
   "outputs": [
    {
     "name": "stdout",
     "output_type": "stream",
     "text": [
      "Answer (a)\n",
      "Enter a string: hello\n",
      "Length of the string:  5\n"
     ]
    }
   ],
   "source": [
    "print(\"Answer (a)\")\n",
    "string= input(\"Enter a string: \")\n",
    "print(\"Length of the string: \", len(string))"
   ]
  },
  {
   "cell_type": "code",
   "execution_count": 17,
   "id": "ab7f938c",
   "metadata": {},
   "outputs": [
    {
     "name": "stdout",
     "output_type": "stream",
     "text": [
      "Answer (b)\n",
      "Enter a character to find its frequency: h\n",
      "Frequency of the character: 1\n"
     ]
    }
   ],
   "source": [
    "print(\"Answer (b)\")\n",
    "char = input(\"Enter a character to find its frequency: \")\n",
    "print(\"Frequency of the character:\", string.count(char_to_find))"
   ]
  },
  {
   "cell_type": "code",
   "execution_count": 19,
   "id": "0394f833",
   "metadata": {},
   "outputs": [
    {
     "name": "stdout",
     "output_type": "stream",
     "text": [
      "Answer (c)\n",
      "Character case analysis:\n",
      "h is lowercase.\n",
      "e is lowercase.\n",
      "l is lowercase.\n",
      "l is lowercase.\n",
      "o is lowercase.\n"
     ]
    }
   ],
   "source": [
    "print(\"Answer (c)\")\n",
    "print(\"Character case analysis:\")\n",
    "for char in string:\n",
    "    if char.isupper():\n",
    "        print(char, \"is uppercase.\")\n",
    "    elif char.islower():\n",
    "        print(char, \"is lowercase.\")\n",
    "    else:\n",
    "        print(char, \"is neither uppercase nor lowercase.\")"
   ]
  },
  {
   "cell_type": "code",
   "execution_count": 101,
   "id": "3f4c94b4",
   "metadata": {},
   "outputs": [
    {
     "name": "stdout",
     "output_type": "stream",
     "text": [
      "{1: 1, 2: 8, 3: 27, 4: 64, 5: 125}\n"
     ]
    }
   ],
   "source": [
    "#WAP to create two lists: one of even numbers and another of odd numbers. The program should demonstrate the various operations and methods on lists.\n",
    "even=[]\n",
    "odd=[]\n",
    "\n",
    "for i in range(1,21):\n",
    "    if i%2==0:\n",
    "        even.append(i)\n",
    "    else:\n",
    "        odd.append(i)\n",
    "        \n",
    "print(even)\n",
    "print(odd)"
   ]
  },
  {
   "cell_type": "code",
   "execution_count": 102,
   "id": "aef16b20",
   "metadata": {},
   "outputs": [
    {
     "name": "stdout",
     "output_type": "stream",
     "text": [
      "[2, 4, 6, 8, 10, 12, 14, 16, 18, 20]\n",
      "[1, 3, 5, 7, 9, 11, 13, 15, 17, 19]\n"
     ]
    }
   ],
   "source": [
    "#WAP to create a dictionary where keys are numbers between 1 and 5 and the values are the cubes of the keys.\n",
    "dic1={num:num**3 for num in range(1,6)}\n",
    "print(dic1)"
   ]
  },
  {
   "cell_type": "code",
   "execution_count": 14,
   "id": "34f6f233",
   "metadata": {},
   "outputs": [
    {
     "name": "stdout",
     "output_type": "stream",
     "text": [
      "Answer (a)\n",
      "First half of tuple:  (1, 2, 5)\n",
      "Second half of tuple:  (7, 2, 4)\n",
      "Answer (b)\n",
      "Concatenation : (1, 2, 5, 7, 2, 4, 10, 11)\n"
     ]
    }
   ],
   "source": [
    "'''\n",
    "WAP to create a tuple t1 = (1, 2, 5, 7, 2, 4). The program should perform the following:\n",
    "a. Print tuple in two lines, line 1 containing the first half of tuple and second line having \n",
    "the second half.\n",
    "b. Concatenate tuple t2 = (10, 11) with t1.\n",
    "'''\n",
    "t1 = (1, 2, 5, 7, 2, 4)\n",
    "\n",
    "print(\"Answer (a)\")\n",
    "t_half1= t1[:3]\n",
    "print(\"First half of tuple: \", t_half1)\n",
    "\n",
    "t_half2= t1[3:]\n",
    "print(\"Second half of tuple: \", t_half2)\n",
    "\n",
    "print(\"Answer (b)\")\n",
    "t2 = (10, 11)\n",
    "print(\"Concatenation :\", t1+t2)"
   ]
  }
 ],
 "metadata": {
  "kernelspec": {
   "display_name": "Python 3 (ipykernel)",
   "language": "python",
   "name": "python3"
  },
  "language_info": {
   "codemirror_mode": {
    "name": "ipython",
    "version": 3
   },
   "file_extension": ".py",
   "mimetype": "text/x-python",
   "name": "python",
   "nbconvert_exporter": "python",
   "pygments_lexer": "ipython3",
   "version": "3.11.5"
  }
 },
 "nbformat": 4,
 "nbformat_minor": 5
}
